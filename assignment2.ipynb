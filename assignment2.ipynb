{
 "cells": [
  {
   "cell_type": "raw",
   "id": "e8114856-4469-4a0d-968b-3623edad532b",
   "metadata": {},
   "source": [
    "1.def keyword is used to create a function."
   ]
  },
  {
   "cell_type": "code",
   "execution_count": 39,
   "id": "b58d3f91-ac0b-4443-93ed-4a5787ba025a",
   "metadata": {},
   "outputs": [
    {
     "name": "stdout",
     "output_type": "stream",
     "text": [
      "1 3 5 7 9 11 13 15 17 19 21 23 25 "
     ]
    }
   ],
   "source": [
    "def odd():\n",
    "    for i in range(1,26):\n",
    "        if i%2!=0:\n",
    "           print(i,end=\" \")\n",
    "     \n",
    "odd()\n"
   ]
  },
  {
   "cell_type": "raw",
   "id": "02b135d7-3313-43b6-bc70-16b8b626ebdf",
   "metadata": {},
   "source": [
    "2. we use *args and *kwargs when we are unawre about the the number of arguments passed in the function."
   ]
  },
  {
   "cell_type": "code",
   "execution_count": 42,
   "id": "0e5ac120-ee2c-41fc-8ddc-6f6efdf44ae1",
   "metadata": {},
   "outputs": [
    {
     "data": {
      "text/plain": [
       "(1, 2, 3, 4, 'Muskan')"
      ]
     },
     "execution_count": 42,
     "metadata": {},
     "output_type": "execute_result"
    }
   ],
   "source": [
    "# Example for args\n",
    "def test(*args):\n",
    "    return args\n",
    "\n",
    "test(1,2,3,4,\"Muskan\")\n"
   ]
  },
  {
   "cell_type": "code",
   "execution_count": 44,
   "id": "b319d41d-f579-4ab7-96f2-115c60b70161",
   "metadata": {},
   "outputs": [
    {
     "data": {
      "text/plain": [
       "{'a': [1, 2, 3, 4], 'b': 'Muskan', 'c': 'rahul'}"
      ]
     },
     "execution_count": 44,
     "metadata": {},
     "output_type": "execute_result"
    }
   ],
   "source": [
    "# Example for kwargs\n",
    "def test(**kwargs):\n",
    "    return kwargs\n",
    "test(a=[1,2,3,4],b=\"Muskan\",c=\"rahul\")"
   ]
  },
  {
   "cell_type": "raw",
   "id": "436b1952-5a37-4896-bf3b-c4f984c3ea95",
   "metadata": {},
   "source": [
    "3.An iterator is an object that allows you to iterate over collections of data, such as lists, tuples, dictionaries, and sets. Iter() method is used to initialize the iterator object so that the instance of this object can be used for iterating."
   ]
  },
  {
   "cell_type": "code",
   "execution_count": 45,
   "id": "71dfa539-ea25-4516-a222-f3cd0fe7b9f6",
   "metadata": {},
   "outputs": [
    {
     "name": "stdout",
     "output_type": "stream",
     "text": [
      "2\n",
      "4\n",
      "6\n",
      "8\n",
      "10\n"
     ]
    }
   ],
   "source": [
    "l=[2,4,6,8,10,12,14,16,18,20]\n",
    "myit = iter(l)\n",
    "print(next(myit))\n",
    "print(next(myit))\n",
    "print(next(myit))\n",
    "print(next(myit))\n",
    "print(next(myit))\n"
   ]
  },
  {
   "cell_type": "raw",
   "id": "cfb00599-2a9e-4fdb-8a3b-8081be436444",
   "metadata": {},
   "source": [
    "4.A Python generator function allows you to declare a function that behaves like an iterator, providing a faster and easier way to create iterators.The yield keyword will convert an expression that is specified along with it to a generator object and return it to the caller."
   ]
  },
  {
   "cell_type": "code",
   "execution_count": 46,
   "id": "0c8dd839-6bb5-45ff-b4f0-cf4640d00e5f",
   "metadata": {},
   "outputs": [
    {
     "name": "stdout",
     "output_type": "stream",
     "text": [
      "1\n",
      "2\n",
      "3\n"
     ]
    }
   ],
   "source": [
    "def simpleGeneratorFun():\n",
    "    yield 1\n",
    "    yield 2\n",
    "    yield 3\n",
    "x = simpleGeneratorFun()\n",
    "print(next(x))\n",
    "print(next(x))\n",
    "print(next(x))"
   ]
  },
  {
   "cell_type": "code",
   "execution_count": 7,
   "id": "b2a31cf0-cdd9-454e-965f-02559ec9d7bc",
   "metadata": {},
   "outputs": [
    {
     "name": "stdout",
     "output_type": "stream",
     "text": [
      "First 20 prime numbers:\n",
      "2\n",
      "3\n",
      "5\n",
      "7\n",
      "11\n",
      "13\n",
      "17\n",
      "19\n",
      "23\n",
      "29\n",
      "31\n",
      "37\n",
      "41\n",
      "43\n",
      "47\n",
      "53\n",
      "59\n",
      "61\n",
      "67\n",
      "71\n"
     ]
    }
   ],
   "source": [
    "# question 5\n",
    "def generate_prime_numbers():\n",
    "    prime_numbers = []\n",
    "    for num in range(2, 1000):\n",
    "        is_prime = True\n",
    "        for i in range(2, int(num**0.5) + 1):\n",
    "            if num % i == 0:\n",
    "                is_prime = False\n",
    "                break\n",
    "        if is_prime:\n",
    "            prime_numbers.append(num)\n",
    "    return prime_numbers\n",
    "\n",
    "# Use the generator function to get the first 20 prime numbers\n",
    "prime_generator = iter(generate_prime_numbers())\n",
    "print(\"First 20 prime numbers:\")\n",
    "for i in range(20):\n",
    "    print(next(prime_generator))"
   ]
  },
  {
   "cell_type": "code",
   "execution_count": 8,
   "id": "ab58080c-127a-4429-bdbc-146545955464",
   "metadata": {},
   "outputs": [
    {
     "name": "stdout",
     "output_type": "stream",
     "text": [
      "The first 10 Fibonacci numbers are:\n",
      "0\n",
      "1\n",
      "1\n",
      "2\n",
      "3\n",
      "5\n",
      "8\n",
      "13\n",
      "21\n",
      "34\n"
     ]
    }
   ],
   "source": [
    "# question 6\n",
    "def fibonacciNumber(n):\n",
    "    fibonacci=[]\n",
    "    a,b=0,1\n",
    "    while len(fibonacci)<n:\n",
    "        fibonacci.append(a)\n",
    "        a,b=b,a+b\n",
    "    return fibonacci\n",
    "ans=fibonacciNumber(10)\n",
    "print(\"The first 10 Fibonacci numbers are:\")\n",
    "for num in ans:\n",
    "    print(num)\n",
    "\n"
   ]
  },
  {
   "cell_type": "code",
   "execution_count": 9,
   "id": "834b88b7-e8c2-4313-b1bb-cb6824957f6a",
   "metadata": {},
   "outputs": [
    {
     "data": {
      "text/plain": [
       "['p', 'w', 's', 'k', 'i', 'l', 'l', 's']"
      ]
     },
     "execution_count": 9,
     "metadata": {},
     "output_type": "execute_result"
    }
   ],
   "source": [
    "# Question 7\n",
    "s=\"pwskills\"\n",
    "[ char for char in s]"
   ]
  },
  {
   "cell_type": "code",
   "execution_count": 13,
   "id": "19fe5aaa-1612-4e2c-8468-d659bb4271f6",
   "metadata": {},
   "outputs": [
    {
     "name": "stdin",
     "output_type": "stream",
     "text": [
      "Enter a number:  121\n"
     ]
    },
    {
     "name": "stdout",
     "output_type": "stream",
     "text": [
      "121 is a palindrome.\n"
     ]
    }
   ],
   "source": [
    "#Question 8\n",
    "def is_palindrome(number):\n",
    "    original_number = number\n",
    "    reversed_number = 0\n",
    "    while number > 0:\n",
    "        digit = number % 10\n",
    "        reversed_number = reversed_number * 10 + digit\n",
    "        number = number // 10\n",
    "    if original_number == reversed_number:\n",
    "        return True\n",
    "    else:\n",
    "        return False\n",
    "\n",
    "# Input a number from the user\n",
    "number = int(input(\"Enter a number: \"))\n",
    "\n",
    "# Call the function to check if the number is a palindrome\n",
    "if is_palindrome(number):\n",
    "    print(number, \"is a palindrome.\")\n",
    "else:\n",
    "    print(number, \"is not a palindrome.\")"
   ]
  },
  {
   "cell_type": "code",
   "execution_count": null,
   "id": "4253e2db-ec2e-4471-a83d-679f925a935f",
   "metadata": {},
   "outputs": [],
   "source": [
    "# question 9\n",
    "l=\n",
    "[ i for i in l i%2!=0]"
   ]
  }
 ],
 "metadata": {
  "kernelspec": {
   "display_name": "Python 3 (ipykernel)",
   "language": "python",
   "name": "python3"
  },
  "language_info": {
   "codemirror_mode": {
    "name": "ipython",
    "version": 3
   },
   "file_extension": ".py",
   "mimetype": "text/x-python",
   "name": "python",
   "nbconvert_exporter": "python",
   "pygments_lexer": "ipython3",
   "version": "3.10.8"
  }
 },
 "nbformat": 4,
 "nbformat_minor": 5
}
